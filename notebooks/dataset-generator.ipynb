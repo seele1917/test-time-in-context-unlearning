{
 "cells": [
  {
   "cell_type": "code",
   "execution_count": 36,
   "id": "9a05de24-3221-4e81-93d3-cbea8e129f4e",
   "metadata": {},
   "outputs": [],
   "source": [
    "import random\n",
    "from functools import partial\n",
    "import pandas as pd"
   ]
  },
  {
   "cell_type": "code",
   "execution_count": 15,
   "id": "61021f4c-a870-44f2-932a-87a040ddcbf6",
   "metadata": {},
   "outputs": [],
   "source": [
    "df = pd.read_csv('AgeDataset-V1.csv')\n",
    "df = df.dropna(subset=['Country', 'Occupation', 'Manner of death'])"
   ]
  },
  {
   "cell_type": "code",
   "execution_count": 39,
   "id": "36925aa9-a072-4624-b934-135aeb53e563",
   "metadata": {},
   "outputs": [],
   "source": [
    "occupation = [\n",
    "    \"What profession was {person} known for?\",\n",
    "    \"Can you tell me what job {person} held during his lifetime?\",\n",
    "    \"What was the primary occupation of {person}?\",\n",
    "    \"In what field did {person} work?\",\n",
    "]\n",
    "\n",
    "country = [\n",
    "    \"Which country is {person} originally from?\",\n",
    "    \"What nationality was {person}?\",\n",
    "    \"Can you identify {person}'s country of origin?\",\n",
    "    \"From which country did {person} hail?\",\n",
    "]\n",
    "\n",
    "manner_of_death = [\n",
    "    \"What was the cause of death for {person}?\",\n",
    "    \"How did {person} die?\",\n",
    "    \"What led to {person}'s demise?\"\n",
    "    \"What was the reason behind {person}'s death?\",\n",
    "]\n",
    "\n",
    "def create_question(row, category):\n",
    "    if category == 'occupation':\n",
    "        question = random.choice(occupation)\n",
    "        return question.format(person=row['Name'])\n",
    "    elif category == 'country':\n",
    "        question = random.choice(country)\n",
    "        return question.format(person=row['Name'])\n",
    "    elif category == 'manner_of_death':\n",
    "        question = random.choice(manner_of_death)\n",
    "        return question.format(person=row['Name'])\n",
    "    return None\n",
    "\n",
    "def apply_all_question(df):\n",
    "    df['question_occupation'] = df.apply(partial(create_question, category='occupation'), axis=1)\n",
    "    df['question_country'] = df.apply(partial(create_question, category='country'), axis=1)\n",
    "    df['question_manner_of_death'] = df.apply(partial(create_question, category='manner_of_death'), axis=1)\n",
    "    return df"
   ]
  },
  {
   "cell_type": "code",
   "execution_count": 60,
   "id": "a7927a86-ac1d-4103-8674-98f3421d7bd2",
   "metadata": {},
   "outputs": [],
   "source": []
  },
  {
   "cell_type": "code",
   "execution_count": 84,
   "id": "c1dee2ad-0a31-4f02-8084-8fd79af2d4f0",
   "metadata": {},
   "outputs": [],
   "source": [
    "def create_dataset(df):\n",
    "    # 新しいDataFrameを作成する準備\n",
    "    questions = []\n",
    "    answers = []\n",
    "    persons = []\n",
    "    choices = []\n",
    "    \n",
    "    # 各行に対して処理\n",
    "    for index, row in df.iterrows():\n",
    "        # 質問と答えのペアを追加\n",
    "        questions += [row['question_occupation'], row['question_country'], row['question_manner_of_death']]\n",
    "        answers += [row['Occupation'], row['Country'], row['Manner of death']]\n",
    "        persons += [row['Name']] * 3  # 同一人物の名前を3回繰り返す\n",
    "        for _ in range(3):\n",
    "            random_list = random.sample(list(df['Name']), 10)\n",
    "            while row['Name'] in random_list:\n",
    "                random_list = random.sample(list(df['Name']), 10)\n",
    "            choices += [random_list]\n",
    "\n",
    "    # 新しいDataFrameを作成\n",
    "    df_new = pd.DataFrame({\n",
    "        'question': questions,\n",
    "        'answer': answers,\n",
    "        'person': persons,\n",
    "        'choices': choices\n",
    "    })\n",
    "    \n",
    "    return df_new"
   ]
  },
  {
   "cell_type": "code",
   "execution_count": 86,
   "id": "bf0d7ee3-47f4-47ef-9bac-79c6d01b4113",
   "metadata": {},
   "outputs": [],
   "source": [
    "train, valid = df.iloc[:200], df.iloc[200:300]\n",
    "train, valid = create_dataset(train), create_dataset(valid)"
   ]
  },
  {
   "cell_type": "code",
   "execution_count": 98,
   "id": "f4a0d143-e315-45ce-98a7-b6e75799e519",
   "metadata": {},
   "outputs": [],
   "source": [
    "from datasets import Dataset, DatasetDict\n",
    "train_dataset = Dataset.from_pandas(train)\n",
    "valid_dataset = Dataset.from_pandas(valid)"
   ]
  },
  {
   "cell_type": "code",
   "execution_count": 99,
   "id": "423d36b0-972e-441d-b32f-698298711498",
   "metadata": {},
   "outputs": [],
   "source": [
    "dataset = DatasetDict({\n",
    "    \"train\": train_dataset,\n",
    "    \"valid\": valid_dataset,\n",
    "})"
   ]
  },
  {
   "cell_type": "code",
   "execution_count": 102,
   "id": "26d662b9-acc4-47e2-ac2d-fe3ca758bf3b",
   "metadata": {},
   "outputs": [
    {
     "data": {
      "application/vnd.jupyter.widget-view+json": {
       "model_id": "558d0bcf08ad42b6b0900cdf6ecc6bd2",
       "version_major": 2,
       "version_minor": 0
      },
      "text/plain": [
       "Saving the dataset (0/1 shards):   0%|          | 0/600 [00:00<?, ? examples/s]"
      ]
     },
     "metadata": {},
     "output_type": "display_data"
    },
    {
     "data": {
      "application/vnd.jupyter.widget-view+json": {
       "model_id": "8d44951c7802483dad6abb993d67a08d",
       "version_major": 2,
       "version_minor": 0
      },
      "text/plain": [
       "Saving the dataset (0/1 shards):   0%|          | 0/300 [00:00<?, ? examples/s]"
      ]
     },
     "metadata": {},
     "output_type": "display_data"
    }
   ],
   "source": [
    "dataset.save_to_disk('datasets/age-dataset')"
   ]
  },
  {
   "cell_type": "code",
   "execution_count": 104,
   "id": "7a66e346-07ba-4ec3-8264-09fc4b69a05f",
   "metadata": {},
   "outputs": [],
   "source": [
    "from datasets import load_from_disk\n",
    "dataset = load_from_disk('datasets/age-dataset')"
   ]
  },
  {
   "cell_type": "code",
   "execution_count": 105,
   "id": "d8193ecc-33fe-43e9-916a-b597b0cbf080",
   "metadata": {},
   "outputs": [
    {
     "data": {
      "text/plain": [
       "DatasetDict({\n",
       "    train: Dataset({\n",
       "        features: ['question', 'answer', 'person', 'choices'],\n",
       "        num_rows: 600\n",
       "    })\n",
       "    valid: Dataset({\n",
       "        features: ['question', 'answer', 'person', 'choices'],\n",
       "        num_rows: 300\n",
       "    })\n",
       "})"
      ]
     },
     "execution_count": 105,
     "metadata": {},
     "output_type": "execute_result"
    }
   ],
   "source": [
    "dataset"
   ]
  },
  {
   "cell_type": "code",
   "execution_count": null,
   "id": "261fc5a6-237d-4abc-a8fc-607f9022bc8e",
   "metadata": {},
   "outputs": [],
   "source": [
    "|"
   ]
  }
 ],
 "metadata": {
  "kernelspec": {
   "display_name": "Python 3 (ipykernel)",
   "language": "python",
   "name": "python3"
  },
  "language_info": {
   "codemirror_mode": {
    "name": "ipython",
    "version": 3
   },
   "file_extension": ".py",
   "mimetype": "text/x-python",
   "name": "python",
   "nbconvert_exporter": "python",
   "pygments_lexer": "ipython3",
   "version": "3.11.2"
  }
 },
 "nbformat": 4,
 "nbformat_minor": 5
}
