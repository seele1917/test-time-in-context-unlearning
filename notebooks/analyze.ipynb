{
 "cells": [
  {
   "cell_type": "code",
   "execution_count": 12,
   "id": "0b7bd6e3-7963-4ca2-a848-76d39a4a7571",
   "metadata": {},
   "outputs": [],
   "source": [
    "import json\n",
    "import glob\n",
    "from pprint import pprint\n",
    "result_paths = glob.glob('./*/*/result/*.json')\n",
    "\n",
    "result = {}\n",
    "for path in result_paths:\n",
    "    with open(path, 'r') as f:\n",
    "        file = json.load(f)\n",
    "    result[path] = file"
   ]
  },
  {
   "cell_type": "code",
   "execution_count": 31,
   "id": "9361784b-6c55-4811-9306-bcc697b55627",
   "metadata": {},
   "outputs": [
    {
     "name": "stdout",
     "output_type": "stream",
     "text": [
      "./mistralai/Mistral-7B-Instruct-v0.2-unlearning-using-age-dataset/result/TOFU.json\n",
      "0.8125 0.6842 1.0\n",
      "{'f1-score': 0.7,\n",
      " 'precision': 1.0,\n",
      " 'recall': 0.5384615384615384,\n",
      " 'support': 117.0}\n",
      "./mistralai/Mistral-7B-Instruct-v0.2-unlearning-using-age-dataset/result/age-dataset.json\n",
      "0.8011 0.6682 1.0\n",
      "{'f1-score': 0.6696230598669624,\n",
      " 'precision': 1.0,\n",
      " 'recall': 0.5033333333333333,\n",
      " 'support': 300.0}\n",
      "./mistralai/Mistral-7B-Instruct-v0.2-unlearning-using-TOFU/result/real_authors.json\n",
      "0.8889 0.8 1.0\n",
      "{'f1-score': 0.8571428571428571,\n",
      " 'precision': 1.0,\n",
      " 'recall': 0.75,\n",
      " 'support': 20.0}\n",
      "./mistralai/Mistral-7B-Instruct-v0.2-unlearning-using-TOFU/result/world_facts.json\n",
      "0.8864 0.7959 1.0\n",
      "{'f1-score': 0.8529411764705882,\n",
      " 'precision': 1.0,\n",
      " 'recall': 0.7435897435897436,\n",
      " 'support': 117.0}\n",
      "./meta-llama/Llama-2-7b-chat-hf-unlearning-using-TOFU/result/real_authors.json\n",
      "0.8511 0.7407 1.0\n",
      "{'f1-score': 0.7878787878787878,\n",
      " 'precision': 1.0,\n",
      " 'recall': 0.65,\n",
      " 'support': 20.0}\n",
      "./meta-llama/Llama-2-7b-chat-hf-unlearning-using-TOFU/result/world_facts.json\n",
      "0.8097 0.6802 1.0\n",
      "{'f1-score': 0.6927374301675978,\n",
      " 'precision': 1.0,\n",
      " 'recall': 0.5299145299145299,\n",
      " 'support': 117.0}\n",
      "./meta-llama/Llama-2-7b-chat-hf-unlearning-using-age-dataset/result/TOFU.json\n",
      "0.7382 0.585 1.0\n",
      "{'f1-score': 0.4503311258278146,\n",
      " 'precision': 1.0,\n",
      " 'recall': 0.2905982905982906,\n",
      " 'support': 117.0}\n",
      "./meta-llama/Llama-2-7b-chat-hf-unlearning-using-age-dataset/result/age-dataset.json\n",
      "0.8197 0.6944 1.0\n",
      "{'f1-score': 0.717948717948718,\n",
      " 'precision': 1.0,\n",
      " 'recall': 0.56,\n",
      " 'support': 300.0}\n"
     ]
    }
   ],
   "source": [
    "for key, value in result.items():\n",
    "    print(key)\n",
    "    data = value['0'] # value['macro avg']\n",
    "    f1_score, precision, recall = data['f1-score'], data['precision'], data['recall']\n",
    "    print(round(f1_score, 4), round(precision, 4), round(recall, 4))\n",
    "    pprint(value['1'])"
   ]
  },
  {
   "cell_type": "code",
   "execution_count": 24,
   "id": "d5a782dd-5836-4b1e-9aac-76bfa51e5caa",
   "metadata": {},
   "outputs": [],
   "source": [
    "# Precision\tforgotと予測したものうち，本当にforgotの場合\n",
    "# Recall\t正解がforgotの場合に，forgotと予測したものの割合"
   ]
  },
  {
   "cell_type": "code",
   "execution_count": null,
   "id": "ddc12dde-a386-43bb-9f57-0659bf26f666",
   "metadata": {},
   "outputs": [],
   "source": [
    "# Precision\tforgotと予測したものうち，本当にforgotの場合\n",
    "# Recall\t正解がforgotの場合に，forgotと予測したものの割合"
   ]
  }
 ],
 "metadata": {
  "kernelspec": {
   "display_name": "Python 3 (ipykernel)",
   "language": "python",
   "name": "python3"
  },
  "language_info": {
   "codemirror_mode": {
    "name": "ipython",
    "version": 3
   },
   "file_extension": ".py",
   "mimetype": "text/x-python",
   "name": "python",
   "nbconvert_exporter": "python",
   "pygments_lexer": "ipython3",
   "version": "3.11.9"
  }
 },
 "nbformat": 4,
 "nbformat_minor": 5
}
